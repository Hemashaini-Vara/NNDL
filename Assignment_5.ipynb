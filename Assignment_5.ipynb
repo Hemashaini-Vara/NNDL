{
 "cells": [
  {
   "cell_type": "code",
   "execution_count": 3,
   "metadata": {},
   "outputs": [
    {
     "name": "stdout",
     "output_type": "stream",
     "text": [
      "m= [2.] c= [3.]\n",
      "meansquare error of trained data: [1.48697587e-20]\n",
      "mean square error of test data: [1.02562085e-19]\n",
      "Y predicted for x=0.8 is: \n",
      "[4.6]\n"
     ]
    }
   ],
   "source": [
    "#MINI BATCH GRADIENT DESCENT\n",
    "import numpy as np\n",
    "import pandas as pd \n",
    "data= pd.read_csv(\"C:/Users/hsnva/Desktop/dataset.csv\")\n",
    "x=np.array(data.iloc[:,1:2])\n",
    "y=np.array(data.iloc[:,2:3])\n",
    "test_x = x[3:]\n",
    "l=len(test_x)\n",
    "test_y = y[3:]\n",
    "x = x[:3]\n",
    "y = y[:3]\n",
    "\n",
    "m=1\n",
    "c=-1\n",
    "eta=0.1\n",
    "epochs=10000\n",
    "ite=0\n",
    "bs=2\n",
    "nob=len(x)/bs\n",
    "while(ite<epochs):\n",
    "    batch=0\n",
    "    while batch<nob:\n",
    "        mb=0\n",
    "        gm=0\n",
    "        gc=0\n",
    "        delm=0\n",
    "        delc=0\n",
    "        while mb<bs:\n",
    "            val=y[batch]-m*x[batch]-c\n",
    "            gm+= -val*x[batch]\n",
    "            gc+= -val\n",
    "            mb+=1\n",
    "        gm=gm/bs\n",
    "        gc=gc/bs\n",
    "        delm+=-eta*gm\n",
    "        delc+=-eta*gc\n",
    "        m=m+delm\n",
    "        c=c+delc\n",
    "        batch+=1\n",
    "    ite+=1\n",
    "q=0\n",
    "print(\"m=\",m,\"c=\",c)\n",
    "for i in range(len(x)):\n",
    "  q += ((y[i]-(m*x[i]+c))**2)\n",
    "mse_train = q/len(x)\n",
    "print(\"meansquare error of trained data:\",mse_train)\n",
    "q=0\n",
    "for i in range(len(test_x)):\n",
    "  q += ((test_y[i]-(m*test_x[i]+c))**2)\n",
    "mse_test = q/l\n",
    "print(\"mean square error of test data:\",mse_test)\n",
    "\n",
    "print(\"Y predicted for x=0.8 is: \")\n",
    "y_model =[]\n",
    "for i in range(0,l):\n",
    "  y_model.append(m*test_x[i]+c)\n",
    "print(y_model[0])"
   ]
  }
 ],
 "metadata": {
  "kernelspec": {
   "display_name": "Python 3",
   "language": "python",
   "name": "python3"
  },
  "language_info": {
   "codemirror_mode": {
    "name": "ipython",
    "version": 3
   },
   "file_extension": ".py",
   "mimetype": "text/x-python",
   "name": "python",
   "nbconvert_exporter": "python",
   "pygments_lexer": "ipython3",
   "version": "3.8.3"
  }
 },
 "nbformat": 4,
 "nbformat_minor": 4
}
