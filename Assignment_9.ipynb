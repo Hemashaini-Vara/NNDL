{
 "cells": [
  {
   "cell_type": "code",
   "execution_count": 1,
   "metadata": {},
   "outputs": [
    {
     "name": "stdout",
     "output_type": "stream",
     "text": [
      "m= [2.] c= [3.]\n",
      "meansquare error of trained data: [3.94430453e-31]\n",
      "mean square error of test data: [0.]\n",
      "Y predicted for x= [0.8]  is:  [4.6]\n"
     ]
    }
   ],
   "source": [
    "#MOMENTUM GRADIENT DESCENT\n",
    "import numpy as np\n",
    "import pandas as pd \n",
    "data= pd.read_csv(\"C:/Users/hsnva/Desktop/dataset.csv\")\n",
    "x=np.array(data.iloc[:,1:2])\n",
    "y=np.array(data.iloc[:,2:3])\n",
    "train_x = x[:3]\n",
    "train_y = y[:3]\n",
    "test_x = x[3:]\n",
    "test_y = y[3:]\n",
    "m=1\n",
    "c=-1\n",
    "eta=0.1\n",
    "epochs=10000\n",
    "ite=0\n",
    "v=0.9\n",
    "vm=vc=0\n",
    "while(ite<epochs):\n",
    "    sample=0\n",
    "    while sample<len(train_x):\n",
    "        val=train_y[sample]-m*train_x[sample]-c\n",
    "        gm= -val*train_x[sample]\n",
    "        gc= -val\n",
    "        vm=v*vm-eta*gm\n",
    "        vc=v*vc-eta*gc\n",
    "        m=m+vm\n",
    "        c=c+vc\n",
    "        sample+=1\n",
    "    ite+=1\n",
    "print(\"m=\",m,\"c=\",c)\n",
    "    \n",
    "q = 0\n",
    "for i in range(len(train_x)):\n",
    "  q += ((train_y[i]-(m*train_x[i]+c))**2)\n",
    "mse_train = q/len(train_x)\n",
    "print(\"meansquare error of trained data:\",mse_train)\n",
    "\n",
    "\n",
    "q=0\n",
    "for i in range(len(test_x)):\n",
    "  q += ((test_y[i]-(m*test_x[i]+c))**2)\n",
    "mse_test = q/len(test_x)\n",
    "print(\"mean square error of test data:\",mse_test)\n",
    "\n",
    "\n",
    "y_model =[]\n",
    "for i in range(len(test_x)):\n",
    "  print(\"Y predicted for x=\",test_x[i],\" is: \",m*test_x[i]+c)\n",
    "  y_model.append(m*test_x[i]+c)"
   ]
  }
 ],
 "metadata": {
  "kernelspec": {
   "display_name": "Python 3",
   "language": "python",
   "name": "python3"
  },
  "language_info": {
   "codemirror_mode": {
    "name": "ipython",
    "version": 3
   },
   "file_extension": ".py",
   "mimetype": "text/x-python",
   "name": "python",
   "nbconvert_exporter": "python",
   "pygments_lexer": "ipython3",
   "version": "3.8.3"
  }
 },
 "nbformat": 4,
 "nbformat_minor": 4
}
