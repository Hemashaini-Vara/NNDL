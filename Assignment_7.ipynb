{
 "cells": [
  {
   "cell_type": "code",
   "execution_count": 1,
   "metadata": {},
   "outputs": [
    {
     "name": "stdout",
     "output_type": "stream",
     "text": [
      "m= [2.] c= [3.]\n",
      "meansquare error of trained data: [9.45701169e-23]\n",
      "mean square error of test data: [5.3939958e-22]\n",
      "Y predicted for x=0.8 is: \n",
      "[4.6]\n"
     ]
    }
   ],
   "source": [
    "#BATCH GRADIENT \n",
    "import numpy as np\n",
    "import pandas as pd \n",
    "data= pd.read_csv(\"C:/Users/hsnva/Desktop/dataset.csv\")\n",
    "x=np.array(data.iloc[:,1:2])\n",
    "y=np.array(data.iloc[:,2:3])\n",
    "test_x = x[3:]\n",
    "l=len(test_x)\n",
    "test_y = y[3:]\n",
    "x = x[:3]\n",
    "y = y[:3]\n",
    "\n",
    "m=1\n",
    "c=-1\n",
    "eta=0.1\n",
    "epochs=10000\n",
    "ite=0\n",
    "while(ite<epochs):\n",
    "    i=0\n",
    "    gm=0\n",
    "    gc=0\n",
    "    delm=0\n",
    "    delc=0\n",
    "    while i<len(x):\n",
    "        val=y[i]-m*x[i]-c\n",
    "        gm+= -val*x[i]\n",
    "        gc+= -val\n",
    "        i+=1\n",
    "    gm=gm/len(x)\n",
    "    gc=gc/len(x)\n",
    "    delm+=-eta*gm\n",
    "    delc+=-eta*gc\n",
    "    m=m+delm\n",
    "    c=c+delc\n",
    "    ite+=1\n",
    "q = 0\n",
    "print(\"m=\",m,\"c=\",c)\n",
    "for i in range(len(x)):\n",
    "  q += ((y[i]-(m*x[i]+c))**2)\n",
    "mse_train = q/len(x)\n",
    "print(\"meansquare error of trained data:\",mse_train)\n",
    "\n",
    "\n",
    "q=0\n",
    "for i in range(len(test_x)):\n",
    "  q += ((test_y[i]-(m*test_x[i]+c))**2)\n",
    "mse_test = q/l\n",
    "print(\"mean square error of test data:\",mse_test)\n",
    "\n",
    "print(\"Y predicted for x=0.8 is: \")\n",
    "y_model =[]\n",
    "for i in range(0,l):\n",
    "  y_model.append(m*test_x[i]+c)\n",
    "print(y_model[0])"
   ]
  }
 ],
 "metadata": {
  "kernelspec": {
   "display_name": "Python 3",
   "language": "python",
   "name": "python3"
  },
  "language_info": {
   "codemirror_mode": {
    "name": "ipython",
    "version": 3
   },
   "file_extension": ".py",
   "mimetype": "text/x-python",
   "name": "python",
   "nbconvert_exporter": "python",
   "pygments_lexer": "ipython3",
   "version": "3.8.3"
  }
 },
 "nbformat": 4,
 "nbformat_minor": 4
}
